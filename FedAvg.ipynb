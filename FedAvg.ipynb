{
  "nbformat": 4,
  "nbformat_minor": 0,
  "metadata": {
    "colab": {
      "name": "FedAvg.ipynb",
      "provenance": []
    },
    "kernelspec": {
      "name": "python3",
      "display_name": "Python 3"
    },
    "language_info": {
      "name": "python"
    },
    "widgets": {
      "application/vnd.jupyter.widget-state+json": {
        "e371ab9212404aaeaa8d15d37aeaf13f": {
          "model_module": "@jupyter-widgets/controls",
          "model_name": "HBoxModel",
          "model_module_version": "1.5.0",
          "state": {
            "_view_name": "HBoxView",
            "_dom_classes": [],
            "_model_name": "HBoxModel",
            "_view_module": "@jupyter-widgets/controls",
            "_model_module_version": "1.5.0",
            "_view_count": null,
            "_view_module_version": "1.5.0",
            "box_style": "",
            "layout": "IPY_MODEL_0c1ba37c46174a418ed7fb56a8707926",
            "_model_module": "@jupyter-widgets/controls",
            "children": [
              "IPY_MODEL_4c60e1b4d7e4440784de735262a29e9a",
              "IPY_MODEL_d592f70254a04925873d5b7b5e3f631e",
              "IPY_MODEL_3b420776c8384b98bdb8003fbe8e03ac"
            ]
          }
        },
        "0c1ba37c46174a418ed7fb56a8707926": {
          "model_module": "@jupyter-widgets/base",
          "model_name": "LayoutModel",
          "model_module_version": "1.2.0",
          "state": {
            "_view_name": "LayoutView",
            "grid_template_rows": null,
            "right": null,
            "justify_content": null,
            "_view_module": "@jupyter-widgets/base",
            "overflow": null,
            "_model_module_version": "1.2.0",
            "_view_count": null,
            "flex_flow": null,
            "width": null,
            "min_width": null,
            "border": null,
            "align_items": null,
            "bottom": null,
            "_model_module": "@jupyter-widgets/base",
            "top": null,
            "grid_column": null,
            "overflow_y": null,
            "overflow_x": null,
            "grid_auto_flow": null,
            "grid_area": null,
            "grid_template_columns": null,
            "flex": null,
            "_model_name": "LayoutModel",
            "justify_items": null,
            "grid_row": null,
            "max_height": null,
            "align_content": null,
            "visibility": null,
            "align_self": null,
            "height": null,
            "min_height": null,
            "padding": null,
            "grid_auto_rows": null,
            "grid_gap": null,
            "max_width": null,
            "order": null,
            "_view_module_version": "1.2.0",
            "grid_template_areas": null,
            "object_position": null,
            "object_fit": null,
            "grid_auto_columns": null,
            "margin": null,
            "display": null,
            "left": null
          }
        },
        "4c60e1b4d7e4440784de735262a29e9a": {
          "model_module": "@jupyter-widgets/controls",
          "model_name": "HTMLModel",
          "model_module_version": "1.5.0",
          "state": {
            "_view_name": "HTMLView",
            "style": "IPY_MODEL_21318a84cd274199b34d4523e788d627",
            "_dom_classes": [],
            "description": "",
            "_model_name": "HTMLModel",
            "placeholder": "​",
            "_view_module": "@jupyter-widgets/controls",
            "_model_module_version": "1.5.0",
            "value": "",
            "_view_count": null,
            "_view_module_version": "1.5.0",
            "description_tooltip": null,
            "_model_module": "@jupyter-widgets/controls",
            "layout": "IPY_MODEL_2014fdf920f741a993ebb8dbfb94bd13"
          }
        },
        "d592f70254a04925873d5b7b5e3f631e": {
          "model_module": "@jupyter-widgets/controls",
          "model_name": "FloatProgressModel",
          "model_module_version": "1.5.0",
          "state": {
            "_view_name": "ProgressView",
            "style": "IPY_MODEL_20904f461e4d4bf5b275b268153aefab",
            "_dom_classes": [],
            "description": "",
            "_model_name": "FloatProgressModel",
            "bar_style": "success",
            "max": 9912422,
            "_view_module": "@jupyter-widgets/controls",
            "_model_module_version": "1.5.0",
            "value": 9912422,
            "_view_count": null,
            "_view_module_version": "1.5.0",
            "orientation": "horizontal",
            "min": 0,
            "description_tooltip": null,
            "_model_module": "@jupyter-widgets/controls",
            "layout": "IPY_MODEL_4436652543f94261889af1f05f9f4356"
          }
        },
        "3b420776c8384b98bdb8003fbe8e03ac": {
          "model_module": "@jupyter-widgets/controls",
          "model_name": "HTMLModel",
          "model_module_version": "1.5.0",
          "state": {
            "_view_name": "HTMLView",
            "style": "IPY_MODEL_e58c8fa938f44067b7e4314f1b6a0a66",
            "_dom_classes": [],
            "description": "",
            "_model_name": "HTMLModel",
            "placeholder": "​",
            "_view_module": "@jupyter-widgets/controls",
            "_model_module_version": "1.5.0",
            "value": " 9913344/? [00:00&lt;00:00, 21666679.77it/s]",
            "_view_count": null,
            "_view_module_version": "1.5.0",
            "description_tooltip": null,
            "_model_module": "@jupyter-widgets/controls",
            "layout": "IPY_MODEL_50a5a93f6f71408c82ffd0d347d8af19"
          }
        },
        "21318a84cd274199b34d4523e788d627": {
          "model_module": "@jupyter-widgets/controls",
          "model_name": "DescriptionStyleModel",
          "model_module_version": "1.5.0",
          "state": {
            "_view_name": "StyleView",
            "_model_name": "DescriptionStyleModel",
            "description_width": "",
            "_view_module": "@jupyter-widgets/base",
            "_model_module_version": "1.5.0",
            "_view_count": null,
            "_view_module_version": "1.2.0",
            "_model_module": "@jupyter-widgets/controls"
          }
        },
        "2014fdf920f741a993ebb8dbfb94bd13": {
          "model_module": "@jupyter-widgets/base",
          "model_name": "LayoutModel",
          "model_module_version": "1.2.0",
          "state": {
            "_view_name": "LayoutView",
            "grid_template_rows": null,
            "right": null,
            "justify_content": null,
            "_view_module": "@jupyter-widgets/base",
            "overflow": null,
            "_model_module_version": "1.2.0",
            "_view_count": null,
            "flex_flow": null,
            "width": null,
            "min_width": null,
            "border": null,
            "align_items": null,
            "bottom": null,
            "_model_module": "@jupyter-widgets/base",
            "top": null,
            "grid_column": null,
            "overflow_y": null,
            "overflow_x": null,
            "grid_auto_flow": null,
            "grid_area": null,
            "grid_template_columns": null,
            "flex": null,
            "_model_name": "LayoutModel",
            "justify_items": null,
            "grid_row": null,
            "max_height": null,
            "align_content": null,
            "visibility": null,
            "align_self": null,
            "height": null,
            "min_height": null,
            "padding": null,
            "grid_auto_rows": null,
            "grid_gap": null,
            "max_width": null,
            "order": null,
            "_view_module_version": "1.2.0",
            "grid_template_areas": null,
            "object_position": null,
            "object_fit": null,
            "grid_auto_columns": null,
            "margin": null,
            "display": null,
            "left": null
          }
        },
        "20904f461e4d4bf5b275b268153aefab": {
          "model_module": "@jupyter-widgets/controls",
          "model_name": "ProgressStyleModel",
          "model_module_version": "1.5.0",
          "state": {
            "_view_name": "StyleView",
            "_model_name": "ProgressStyleModel",
            "description_width": "",
            "_view_module": "@jupyter-widgets/base",
            "_model_module_version": "1.5.0",
            "_view_count": null,
            "_view_module_version": "1.2.0",
            "bar_color": null,
            "_model_module": "@jupyter-widgets/controls"
          }
        },
        "4436652543f94261889af1f05f9f4356": {
          "model_module": "@jupyter-widgets/base",
          "model_name": "LayoutModel",
          "model_module_version": "1.2.0",
          "state": {
            "_view_name": "LayoutView",
            "grid_template_rows": null,
            "right": null,
            "justify_content": null,
            "_view_module": "@jupyter-widgets/base",
            "overflow": null,
            "_model_module_version": "1.2.0",
            "_view_count": null,
            "flex_flow": null,
            "width": null,
            "min_width": null,
            "border": null,
            "align_items": null,
            "bottom": null,
            "_model_module": "@jupyter-widgets/base",
            "top": null,
            "grid_column": null,
            "overflow_y": null,
            "overflow_x": null,
            "grid_auto_flow": null,
            "grid_area": null,
            "grid_template_columns": null,
            "flex": null,
            "_model_name": "LayoutModel",
            "justify_items": null,
            "grid_row": null,
            "max_height": null,
            "align_content": null,
            "visibility": null,
            "align_self": null,
            "height": null,
            "min_height": null,
            "padding": null,
            "grid_auto_rows": null,
            "grid_gap": null,
            "max_width": null,
            "order": null,
            "_view_module_version": "1.2.0",
            "grid_template_areas": null,
            "object_position": null,
            "object_fit": null,
            "grid_auto_columns": null,
            "margin": null,
            "display": null,
            "left": null
          }
        },
        "e58c8fa938f44067b7e4314f1b6a0a66": {
          "model_module": "@jupyter-widgets/controls",
          "model_name": "DescriptionStyleModel",
          "model_module_version": "1.5.0",
          "state": {
            "_view_name": "StyleView",
            "_model_name": "DescriptionStyleModel",
            "description_width": "",
            "_view_module": "@jupyter-widgets/base",
            "_model_module_version": "1.5.0",
            "_view_count": null,
            "_view_module_version": "1.2.0",
            "_model_module": "@jupyter-widgets/controls"
          }
        },
        "50a5a93f6f71408c82ffd0d347d8af19": {
          "model_module": "@jupyter-widgets/base",
          "model_name": "LayoutModel",
          "model_module_version": "1.2.0",
          "state": {
            "_view_name": "LayoutView",
            "grid_template_rows": null,
            "right": null,
            "justify_content": null,
            "_view_module": "@jupyter-widgets/base",
            "overflow": null,
            "_model_module_version": "1.2.0",
            "_view_count": null,
            "flex_flow": null,
            "width": null,
            "min_width": null,
            "border": null,
            "align_items": null,
            "bottom": null,
            "_model_module": "@jupyter-widgets/base",
            "top": null,
            "grid_column": null,
            "overflow_y": null,
            "overflow_x": null,
            "grid_auto_flow": null,
            "grid_area": null,
            "grid_template_columns": null,
            "flex": null,
            "_model_name": "LayoutModel",
            "justify_items": null,
            "grid_row": null,
            "max_height": null,
            "align_content": null,
            "visibility": null,
            "align_self": null,
            "height": null,
            "min_height": null,
            "padding": null,
            "grid_auto_rows": null,
            "grid_gap": null,
            "max_width": null,
            "order": null,
            "_view_module_version": "1.2.0",
            "grid_template_areas": null,
            "object_position": null,
            "object_fit": null,
            "grid_auto_columns": null,
            "margin": null,
            "display": null,
            "left": null
          }
        },
        "f68338c40d6a48049c105c4530c44e94": {
          "model_module": "@jupyter-widgets/controls",
          "model_name": "HBoxModel",
          "model_module_version": "1.5.0",
          "state": {
            "_view_name": "HBoxView",
            "_dom_classes": [],
            "_model_name": "HBoxModel",
            "_view_module": "@jupyter-widgets/controls",
            "_model_module_version": "1.5.0",
            "_view_count": null,
            "_view_module_version": "1.5.0",
            "box_style": "",
            "layout": "IPY_MODEL_b8ab2ad2e92244cf9ce7f8855a82c9a1",
            "_model_module": "@jupyter-widgets/controls",
            "children": [
              "IPY_MODEL_36082221f4e549f3ac3c4c772e7dfb35",
              "IPY_MODEL_f4feaf9574384e989640c5bbaed5b6cb",
              "IPY_MODEL_37edf95adbdf4063a93a40a7d4b72757"
            ]
          }
        },
        "b8ab2ad2e92244cf9ce7f8855a82c9a1": {
          "model_module": "@jupyter-widgets/base",
          "model_name": "LayoutModel",
          "model_module_version": "1.2.0",
          "state": {
            "_view_name": "LayoutView",
            "grid_template_rows": null,
            "right": null,
            "justify_content": null,
            "_view_module": "@jupyter-widgets/base",
            "overflow": null,
            "_model_module_version": "1.2.0",
            "_view_count": null,
            "flex_flow": null,
            "width": null,
            "min_width": null,
            "border": null,
            "align_items": null,
            "bottom": null,
            "_model_module": "@jupyter-widgets/base",
            "top": null,
            "grid_column": null,
            "overflow_y": null,
            "overflow_x": null,
            "grid_auto_flow": null,
            "grid_area": null,
            "grid_template_columns": null,
            "flex": null,
            "_model_name": "LayoutModel",
            "justify_items": null,
            "grid_row": null,
            "max_height": null,
            "align_content": null,
            "visibility": null,
            "align_self": null,
            "height": null,
            "min_height": null,
            "padding": null,
            "grid_auto_rows": null,
            "grid_gap": null,
            "max_width": null,
            "order": null,
            "_view_module_version": "1.2.0",
            "grid_template_areas": null,
            "object_position": null,
            "object_fit": null,
            "grid_auto_columns": null,
            "margin": null,
            "display": null,
            "left": null
          }
        },
        "36082221f4e549f3ac3c4c772e7dfb35": {
          "model_module": "@jupyter-widgets/controls",
          "model_name": "HTMLModel",
          "model_module_version": "1.5.0",
          "state": {
            "_view_name": "HTMLView",
            "style": "IPY_MODEL_bbf4d4091a4d4a66bfca708f9d387168",
            "_dom_classes": [],
            "description": "",
            "_model_name": "HTMLModel",
            "placeholder": "​",
            "_view_module": "@jupyter-widgets/controls",
            "_model_module_version": "1.5.0",
            "value": "",
            "_view_count": null,
            "_view_module_version": "1.5.0",
            "description_tooltip": null,
            "_model_module": "@jupyter-widgets/controls",
            "layout": "IPY_MODEL_9706fc9130ad4e48b732ca9651f858e2"
          }
        },
        "f4feaf9574384e989640c5bbaed5b6cb": {
          "model_module": "@jupyter-widgets/controls",
          "model_name": "FloatProgressModel",
          "model_module_version": "1.5.0",
          "state": {
            "_view_name": "ProgressView",
            "style": "IPY_MODEL_670f8745abad47d7b4d300b99fc45a35",
            "_dom_classes": [],
            "description": "",
            "_model_name": "FloatProgressModel",
            "bar_style": "success",
            "max": 28881,
            "_view_module": "@jupyter-widgets/controls",
            "_model_module_version": "1.5.0",
            "value": 28881,
            "_view_count": null,
            "_view_module_version": "1.5.0",
            "orientation": "horizontal",
            "min": 0,
            "description_tooltip": null,
            "_model_module": "@jupyter-widgets/controls",
            "layout": "IPY_MODEL_f571895320fa4d18aaffedb5df9aa5f3"
          }
        },
        "37edf95adbdf4063a93a40a7d4b72757": {
          "model_module": "@jupyter-widgets/controls",
          "model_name": "HTMLModel",
          "model_module_version": "1.5.0",
          "state": {
            "_view_name": "HTMLView",
            "style": "IPY_MODEL_e329633021de452ca869be46c23711fc",
            "_dom_classes": [],
            "description": "",
            "_model_name": "HTMLModel",
            "placeholder": "​",
            "_view_module": "@jupyter-widgets/controls",
            "_model_module_version": "1.5.0",
            "value": " 29696/? [00:00&lt;00:00, 497110.63it/s]",
            "_view_count": null,
            "_view_module_version": "1.5.0",
            "description_tooltip": null,
            "_model_module": "@jupyter-widgets/controls",
            "layout": "IPY_MODEL_c535cbe78876430eb2d8b8714cc48468"
          }
        },
        "bbf4d4091a4d4a66bfca708f9d387168": {
          "model_module": "@jupyter-widgets/controls",
          "model_name": "DescriptionStyleModel",
          "model_module_version": "1.5.0",
          "state": {
            "_view_name": "StyleView",
            "_model_name": "DescriptionStyleModel",
            "description_width": "",
            "_view_module": "@jupyter-widgets/base",
            "_model_module_version": "1.5.0",
            "_view_count": null,
            "_view_module_version": "1.2.0",
            "_model_module": "@jupyter-widgets/controls"
          }
        },
        "9706fc9130ad4e48b732ca9651f858e2": {
          "model_module": "@jupyter-widgets/base",
          "model_name": "LayoutModel",
          "model_module_version": "1.2.0",
          "state": {
            "_view_name": "LayoutView",
            "grid_template_rows": null,
            "right": null,
            "justify_content": null,
            "_view_module": "@jupyter-widgets/base",
            "overflow": null,
            "_model_module_version": "1.2.0",
            "_view_count": null,
            "flex_flow": null,
            "width": null,
            "min_width": null,
            "border": null,
            "align_items": null,
            "bottom": null,
            "_model_module": "@jupyter-widgets/base",
            "top": null,
            "grid_column": null,
            "overflow_y": null,
            "overflow_x": null,
            "grid_auto_flow": null,
            "grid_area": null,
            "grid_template_columns": null,
            "flex": null,
            "_model_name": "LayoutModel",
            "justify_items": null,
            "grid_row": null,
            "max_height": null,
            "align_content": null,
            "visibility": null,
            "align_self": null,
            "height": null,
            "min_height": null,
            "padding": null,
            "grid_auto_rows": null,
            "grid_gap": null,
            "max_width": null,
            "order": null,
            "_view_module_version": "1.2.0",
            "grid_template_areas": null,
            "object_position": null,
            "object_fit": null,
            "grid_auto_columns": null,
            "margin": null,
            "display": null,
            "left": null
          }
        },
        "670f8745abad47d7b4d300b99fc45a35": {
          "model_module": "@jupyter-widgets/controls",
          "model_name": "ProgressStyleModel",
          "model_module_version": "1.5.0",
          "state": {
            "_view_name": "StyleView",
            "_model_name": "ProgressStyleModel",
            "description_width": "",
            "_view_module": "@jupyter-widgets/base",
            "_model_module_version": "1.5.0",
            "_view_count": null,
            "_view_module_version": "1.2.0",
            "bar_color": null,
            "_model_module": "@jupyter-widgets/controls"
          }
        },
        "f571895320fa4d18aaffedb5df9aa5f3": {
          "model_module": "@jupyter-widgets/base",
          "model_name": "LayoutModel",
          "model_module_version": "1.2.0",
          "state": {
            "_view_name": "LayoutView",
            "grid_template_rows": null,
            "right": null,
            "justify_content": null,
            "_view_module": "@jupyter-widgets/base",
            "overflow": null,
            "_model_module_version": "1.2.0",
            "_view_count": null,
            "flex_flow": null,
            "width": null,
            "min_width": null,
            "border": null,
            "align_items": null,
            "bottom": null,
            "_model_module": "@jupyter-widgets/base",
            "top": null,
            "grid_column": null,
            "overflow_y": null,
            "overflow_x": null,
            "grid_auto_flow": null,
            "grid_area": null,
            "grid_template_columns": null,
            "flex": null,
            "_model_name": "LayoutModel",
            "justify_items": null,
            "grid_row": null,
            "max_height": null,
            "align_content": null,
            "visibility": null,
            "align_self": null,
            "height": null,
            "min_height": null,
            "padding": null,
            "grid_auto_rows": null,
            "grid_gap": null,
            "max_width": null,
            "order": null,
            "_view_module_version": "1.2.0",
            "grid_template_areas": null,
            "object_position": null,
            "object_fit": null,
            "grid_auto_columns": null,
            "margin": null,
            "display": null,
            "left": null
          }
        },
        "e329633021de452ca869be46c23711fc": {
          "model_module": "@jupyter-widgets/controls",
          "model_name": "DescriptionStyleModel",
          "model_module_version": "1.5.0",
          "state": {
            "_view_name": "StyleView",
            "_model_name": "DescriptionStyleModel",
            "description_width": "",
            "_view_module": "@jupyter-widgets/base",
            "_model_module_version": "1.5.0",
            "_view_count": null,
            "_view_module_version": "1.2.0",
            "_model_module": "@jupyter-widgets/controls"
          }
        },
        "c535cbe78876430eb2d8b8714cc48468": {
          "model_module": "@jupyter-widgets/base",
          "model_name": "LayoutModel",
          "model_module_version": "1.2.0",
          "state": {
            "_view_name": "LayoutView",
            "grid_template_rows": null,
            "right": null,
            "justify_content": null,
            "_view_module": "@jupyter-widgets/base",
            "overflow": null,
            "_model_module_version": "1.2.0",
            "_view_count": null,
            "flex_flow": null,
            "width": null,
            "min_width": null,
            "border": null,
            "align_items": null,
            "bottom": null,
            "_model_module": "@jupyter-widgets/base",
            "top": null,
            "grid_column": null,
            "overflow_y": null,
            "overflow_x": null,
            "grid_auto_flow": null,
            "grid_area": null,
            "grid_template_columns": null,
            "flex": null,
            "_model_name": "LayoutModel",
            "justify_items": null,
            "grid_row": null,
            "max_height": null,
            "align_content": null,
            "visibility": null,
            "align_self": null,
            "height": null,
            "min_height": null,
            "padding": null,
            "grid_auto_rows": null,
            "grid_gap": null,
            "max_width": null,
            "order": null,
            "_view_module_version": "1.2.0",
            "grid_template_areas": null,
            "object_position": null,
            "object_fit": null,
            "grid_auto_columns": null,
            "margin": null,
            "display": null,
            "left": null
          }
        },
        "18948639ef0845a58638845ecef6957d": {
          "model_module": "@jupyter-widgets/controls",
          "model_name": "HBoxModel",
          "model_module_version": "1.5.0",
          "state": {
            "_view_name": "HBoxView",
            "_dom_classes": [],
            "_model_name": "HBoxModel",
            "_view_module": "@jupyter-widgets/controls",
            "_model_module_version": "1.5.0",
            "_view_count": null,
            "_view_module_version": "1.5.0",
            "box_style": "",
            "layout": "IPY_MODEL_e1557a2f95874765853ec9c9bd91fa55",
            "_model_module": "@jupyter-widgets/controls",
            "children": [
              "IPY_MODEL_f7a2bd11fa9f4934ade9577345cd4f06",
              "IPY_MODEL_90047c3383ae4a709e701901c6473417",
              "IPY_MODEL_31c32f596c9545f082e6097b9eb18e03"
            ]
          }
        },
        "e1557a2f95874765853ec9c9bd91fa55": {
          "model_module": "@jupyter-widgets/base",
          "model_name": "LayoutModel",
          "model_module_version": "1.2.0",
          "state": {
            "_view_name": "LayoutView",
            "grid_template_rows": null,
            "right": null,
            "justify_content": null,
            "_view_module": "@jupyter-widgets/base",
            "overflow": null,
            "_model_module_version": "1.2.0",
            "_view_count": null,
            "flex_flow": null,
            "width": null,
            "min_width": null,
            "border": null,
            "align_items": null,
            "bottom": null,
            "_model_module": "@jupyter-widgets/base",
            "top": null,
            "grid_column": null,
            "overflow_y": null,
            "overflow_x": null,
            "grid_auto_flow": null,
            "grid_area": null,
            "grid_template_columns": null,
            "flex": null,
            "_model_name": "LayoutModel",
            "justify_items": null,
            "grid_row": null,
            "max_height": null,
            "align_content": null,
            "visibility": null,
            "align_self": null,
            "height": null,
            "min_height": null,
            "padding": null,
            "grid_auto_rows": null,
            "grid_gap": null,
            "max_width": null,
            "order": null,
            "_view_module_version": "1.2.0",
            "grid_template_areas": null,
            "object_position": null,
            "object_fit": null,
            "grid_auto_columns": null,
            "margin": null,
            "display": null,
            "left": null
          }
        },
        "f7a2bd11fa9f4934ade9577345cd4f06": {
          "model_module": "@jupyter-widgets/controls",
          "model_name": "HTMLModel",
          "model_module_version": "1.5.0",
          "state": {
            "_view_name": "HTMLView",
            "style": "IPY_MODEL_a0b155f1099e4921831aef9e2bbc3d1c",
            "_dom_classes": [],
            "description": "",
            "_model_name": "HTMLModel",
            "placeholder": "​",
            "_view_module": "@jupyter-widgets/controls",
            "_model_module_version": "1.5.0",
            "value": "",
            "_view_count": null,
            "_view_module_version": "1.5.0",
            "description_tooltip": null,
            "_model_module": "@jupyter-widgets/controls",
            "layout": "IPY_MODEL_44866ece16ef43428351e491b915539e"
          }
        },
        "90047c3383ae4a709e701901c6473417": {
          "model_module": "@jupyter-widgets/controls",
          "model_name": "FloatProgressModel",
          "model_module_version": "1.5.0",
          "state": {
            "_view_name": "ProgressView",
            "style": "IPY_MODEL_ddd1686eac924321b9eeb0f244131ec2",
            "_dom_classes": [],
            "description": "",
            "_model_name": "FloatProgressModel",
            "bar_style": "success",
            "max": 1648877,
            "_view_module": "@jupyter-widgets/controls",
            "_model_module_version": "1.5.0",
            "value": 1648877,
            "_view_count": null,
            "_view_module_version": "1.5.0",
            "orientation": "horizontal",
            "min": 0,
            "description_tooltip": null,
            "_model_module": "@jupyter-widgets/controls",
            "layout": "IPY_MODEL_d52a795a1c664da5aeb8297fba3ec39d"
          }
        },
        "31c32f596c9545f082e6097b9eb18e03": {
          "model_module": "@jupyter-widgets/controls",
          "model_name": "HTMLModel",
          "model_module_version": "1.5.0",
          "state": {
            "_view_name": "HTMLView",
            "style": "IPY_MODEL_581a936bdaef46a19677de03955f5e06",
            "_dom_classes": [],
            "description": "",
            "_model_name": "HTMLModel",
            "placeholder": "​",
            "_view_module": "@jupyter-widgets/controls",
            "_model_module_version": "1.5.0",
            "value": " 1649664/? [00:00&lt;00:00, 2484976.10it/s]",
            "_view_count": null,
            "_view_module_version": "1.5.0",
            "description_tooltip": null,
            "_model_module": "@jupyter-widgets/controls",
            "layout": "IPY_MODEL_0414dc2239724af5b1f048e5d7c1a9ee"
          }
        },
        "a0b155f1099e4921831aef9e2bbc3d1c": {
          "model_module": "@jupyter-widgets/controls",
          "model_name": "DescriptionStyleModel",
          "model_module_version": "1.5.0",
          "state": {
            "_view_name": "StyleView",
            "_model_name": "DescriptionStyleModel",
            "description_width": "",
            "_view_module": "@jupyter-widgets/base",
            "_model_module_version": "1.5.0",
            "_view_count": null,
            "_view_module_version": "1.2.0",
            "_model_module": "@jupyter-widgets/controls"
          }
        },
        "44866ece16ef43428351e491b915539e": {
          "model_module": "@jupyter-widgets/base",
          "model_name": "LayoutModel",
          "model_module_version": "1.2.0",
          "state": {
            "_view_name": "LayoutView",
            "grid_template_rows": null,
            "right": null,
            "justify_content": null,
            "_view_module": "@jupyter-widgets/base",
            "overflow": null,
            "_model_module_version": "1.2.0",
            "_view_count": null,
            "flex_flow": null,
            "width": null,
            "min_width": null,
            "border": null,
            "align_items": null,
            "bottom": null,
            "_model_module": "@jupyter-widgets/base",
            "top": null,
            "grid_column": null,
            "overflow_y": null,
            "overflow_x": null,
            "grid_auto_flow": null,
            "grid_area": null,
            "grid_template_columns": null,
            "flex": null,
            "_model_name": "LayoutModel",
            "justify_items": null,
            "grid_row": null,
            "max_height": null,
            "align_content": null,
            "visibility": null,
            "align_self": null,
            "height": null,
            "min_height": null,
            "padding": null,
            "grid_auto_rows": null,
            "grid_gap": null,
            "max_width": null,
            "order": null,
            "_view_module_version": "1.2.0",
            "grid_template_areas": null,
            "object_position": null,
            "object_fit": null,
            "grid_auto_columns": null,
            "margin": null,
            "display": null,
            "left": null
          }
        },
        "ddd1686eac924321b9eeb0f244131ec2": {
          "model_module": "@jupyter-widgets/controls",
          "model_name": "ProgressStyleModel",
          "model_module_version": "1.5.0",
          "state": {
            "_view_name": "StyleView",
            "_model_name": "ProgressStyleModel",
            "description_width": "",
            "_view_module": "@jupyter-widgets/base",
            "_model_module_version": "1.5.0",
            "_view_count": null,
            "_view_module_version": "1.2.0",
            "bar_color": null,
            "_model_module": "@jupyter-widgets/controls"
          }
        },
        "d52a795a1c664da5aeb8297fba3ec39d": {
          "model_module": "@jupyter-widgets/base",
          "model_name": "LayoutModel",
          "model_module_version": "1.2.0",
          "state": {
            "_view_name": "LayoutView",
            "grid_template_rows": null,
            "right": null,
            "justify_content": null,
            "_view_module": "@jupyter-widgets/base",
            "overflow": null,
            "_model_module_version": "1.2.0",
            "_view_count": null,
            "flex_flow": null,
            "width": null,
            "min_width": null,
            "border": null,
            "align_items": null,
            "bottom": null,
            "_model_module": "@jupyter-widgets/base",
            "top": null,
            "grid_column": null,
            "overflow_y": null,
            "overflow_x": null,
            "grid_auto_flow": null,
            "grid_area": null,
            "grid_template_columns": null,
            "flex": null,
            "_model_name": "LayoutModel",
            "justify_items": null,
            "grid_row": null,
            "max_height": null,
            "align_content": null,
            "visibility": null,
            "align_self": null,
            "height": null,
            "min_height": null,
            "padding": null,
            "grid_auto_rows": null,
            "grid_gap": null,
            "max_width": null,
            "order": null,
            "_view_module_version": "1.2.0",
            "grid_template_areas": null,
            "object_position": null,
            "object_fit": null,
            "grid_auto_columns": null,
            "margin": null,
            "display": null,
            "left": null
          }
        },
        "581a936bdaef46a19677de03955f5e06": {
          "model_module": "@jupyter-widgets/controls",
          "model_name": "DescriptionStyleModel",
          "model_module_version": "1.5.0",
          "state": {
            "_view_name": "StyleView",
            "_model_name": "DescriptionStyleModel",
            "description_width": "",
            "_view_module": "@jupyter-widgets/base",
            "_model_module_version": "1.5.0",
            "_view_count": null,
            "_view_module_version": "1.2.0",
            "_model_module": "@jupyter-widgets/controls"
          }
        },
        "0414dc2239724af5b1f048e5d7c1a9ee": {
          "model_module": "@jupyter-widgets/base",
          "model_name": "LayoutModel",
          "model_module_version": "1.2.0",
          "state": {
            "_view_name": "LayoutView",
            "grid_template_rows": null,
            "right": null,
            "justify_content": null,
            "_view_module": "@jupyter-widgets/base",
            "overflow": null,
            "_model_module_version": "1.2.0",
            "_view_count": null,
            "flex_flow": null,
            "width": null,
            "min_width": null,
            "border": null,
            "align_items": null,
            "bottom": null,
            "_model_module": "@jupyter-widgets/base",
            "top": null,
            "grid_column": null,
            "overflow_y": null,
            "overflow_x": null,
            "grid_auto_flow": null,
            "grid_area": null,
            "grid_template_columns": null,
            "flex": null,
            "_model_name": "LayoutModel",
            "justify_items": null,
            "grid_row": null,
            "max_height": null,
            "align_content": null,
            "visibility": null,
            "align_self": null,
            "height": null,
            "min_height": null,
            "padding": null,
            "grid_auto_rows": null,
            "grid_gap": null,
            "max_width": null,
            "order": null,
            "_view_module_version": "1.2.0",
            "grid_template_areas": null,
            "object_position": null,
            "object_fit": null,
            "grid_auto_columns": null,
            "margin": null,
            "display": null,
            "left": null
          }
        },
        "c4d8356c7c5a4d16be7566e1cd23e27e": {
          "model_module": "@jupyter-widgets/controls",
          "model_name": "HBoxModel",
          "model_module_version": "1.5.0",
          "state": {
            "_view_name": "HBoxView",
            "_dom_classes": [],
            "_model_name": "HBoxModel",
            "_view_module": "@jupyter-widgets/controls",
            "_model_module_version": "1.5.0",
            "_view_count": null,
            "_view_module_version": "1.5.0",
            "box_style": "",
            "layout": "IPY_MODEL_4f93346c1ed84849b4f8776cec04a1b7",
            "_model_module": "@jupyter-widgets/controls",
            "children": [
              "IPY_MODEL_c666c7cece924ebdbaa588a87694b53a",
              "IPY_MODEL_79398da6dd574f9dacb535dd55cd43a2",
              "IPY_MODEL_a34d51f61b6241d6b73f3fd3f0161e14"
            ]
          }
        },
        "4f93346c1ed84849b4f8776cec04a1b7": {
          "model_module": "@jupyter-widgets/base",
          "model_name": "LayoutModel",
          "model_module_version": "1.2.0",
          "state": {
            "_view_name": "LayoutView",
            "grid_template_rows": null,
            "right": null,
            "justify_content": null,
            "_view_module": "@jupyter-widgets/base",
            "overflow": null,
            "_model_module_version": "1.2.0",
            "_view_count": null,
            "flex_flow": null,
            "width": null,
            "min_width": null,
            "border": null,
            "align_items": null,
            "bottom": null,
            "_model_module": "@jupyter-widgets/base",
            "top": null,
            "grid_column": null,
            "overflow_y": null,
            "overflow_x": null,
            "grid_auto_flow": null,
            "grid_area": null,
            "grid_template_columns": null,
            "flex": null,
            "_model_name": "LayoutModel",
            "justify_items": null,
            "grid_row": null,
            "max_height": null,
            "align_content": null,
            "visibility": null,
            "align_self": null,
            "height": null,
            "min_height": null,
            "padding": null,
            "grid_auto_rows": null,
            "grid_gap": null,
            "max_width": null,
            "order": null,
            "_view_module_version": "1.2.0",
            "grid_template_areas": null,
            "object_position": null,
            "object_fit": null,
            "grid_auto_columns": null,
            "margin": null,
            "display": null,
            "left": null
          }
        },
        "c666c7cece924ebdbaa588a87694b53a": {
          "model_module": "@jupyter-widgets/controls",
          "model_name": "HTMLModel",
          "model_module_version": "1.5.0",
          "state": {
            "_view_name": "HTMLView",
            "style": "IPY_MODEL_48a67b3cc3ea43519f565c3429905f79",
            "_dom_classes": [],
            "description": "",
            "_model_name": "HTMLModel",
            "placeholder": "​",
            "_view_module": "@jupyter-widgets/controls",
            "_model_module_version": "1.5.0",
            "value": "",
            "_view_count": null,
            "_view_module_version": "1.5.0",
            "description_tooltip": null,
            "_model_module": "@jupyter-widgets/controls",
            "layout": "IPY_MODEL_8dd97e368a3e4e87808436349eebeb68"
          }
        },
        "79398da6dd574f9dacb535dd55cd43a2": {
          "model_module": "@jupyter-widgets/controls",
          "model_name": "FloatProgressModel",
          "model_module_version": "1.5.0",
          "state": {
            "_view_name": "ProgressView",
            "style": "IPY_MODEL_46808326649e4976a719994ffa790e33",
            "_dom_classes": [],
            "description": "",
            "_model_name": "FloatProgressModel",
            "bar_style": "success",
            "max": 4542,
            "_view_module": "@jupyter-widgets/controls",
            "_model_module_version": "1.5.0",
            "value": 4542,
            "_view_count": null,
            "_view_module_version": "1.5.0",
            "orientation": "horizontal",
            "min": 0,
            "description_tooltip": null,
            "_model_module": "@jupyter-widgets/controls",
            "layout": "IPY_MODEL_26074ea24521409194cf7171cc7618a2"
          }
        },
        "a34d51f61b6241d6b73f3fd3f0161e14": {
          "model_module": "@jupyter-widgets/controls",
          "model_name": "HTMLModel",
          "model_module_version": "1.5.0",
          "state": {
            "_view_name": "HTMLView",
            "style": "IPY_MODEL_86b408332e22422eac4bb9b86342c10c",
            "_dom_classes": [],
            "description": "",
            "_model_name": "HTMLModel",
            "placeholder": "​",
            "_view_module": "@jupyter-widgets/controls",
            "_model_module_version": "1.5.0",
            "value": " 5120/? [00:00&lt;00:00, 74894.89it/s]",
            "_view_count": null,
            "_view_module_version": "1.5.0",
            "description_tooltip": null,
            "_model_module": "@jupyter-widgets/controls",
            "layout": "IPY_MODEL_7587738184ef4450a33c7cd6e007c2ff"
          }
        },
        "48a67b3cc3ea43519f565c3429905f79": {
          "model_module": "@jupyter-widgets/controls",
          "model_name": "DescriptionStyleModel",
          "model_module_version": "1.5.0",
          "state": {
            "_view_name": "StyleView",
            "_model_name": "DescriptionStyleModel",
            "description_width": "",
            "_view_module": "@jupyter-widgets/base",
            "_model_module_version": "1.5.0",
            "_view_count": null,
            "_view_module_version": "1.2.0",
            "_model_module": "@jupyter-widgets/controls"
          }
        },
        "8dd97e368a3e4e87808436349eebeb68": {
          "model_module": "@jupyter-widgets/base",
          "model_name": "LayoutModel",
          "model_module_version": "1.2.0",
          "state": {
            "_view_name": "LayoutView",
            "grid_template_rows": null,
            "right": null,
            "justify_content": null,
            "_view_module": "@jupyter-widgets/base",
            "overflow": null,
            "_model_module_version": "1.2.0",
            "_view_count": null,
            "flex_flow": null,
            "width": null,
            "min_width": null,
            "border": null,
            "align_items": null,
            "bottom": null,
            "_model_module": "@jupyter-widgets/base",
            "top": null,
            "grid_column": null,
            "overflow_y": null,
            "overflow_x": null,
            "grid_auto_flow": null,
            "grid_area": null,
            "grid_template_columns": null,
            "flex": null,
            "_model_name": "LayoutModel",
            "justify_items": null,
            "grid_row": null,
            "max_height": null,
            "align_content": null,
            "visibility": null,
            "align_self": null,
            "height": null,
            "min_height": null,
            "padding": null,
            "grid_auto_rows": null,
            "grid_gap": null,
            "max_width": null,
            "order": null,
            "_view_module_version": "1.2.0",
            "grid_template_areas": null,
            "object_position": null,
            "object_fit": null,
            "grid_auto_columns": null,
            "margin": null,
            "display": null,
            "left": null
          }
        },
        "46808326649e4976a719994ffa790e33": {
          "model_module": "@jupyter-widgets/controls",
          "model_name": "ProgressStyleModel",
          "model_module_version": "1.5.0",
          "state": {
            "_view_name": "StyleView",
            "_model_name": "ProgressStyleModel",
            "description_width": "",
            "_view_module": "@jupyter-widgets/base",
            "_model_module_version": "1.5.0",
            "_view_count": null,
            "_view_module_version": "1.2.0",
            "bar_color": null,
            "_model_module": "@jupyter-widgets/controls"
          }
        },
        "26074ea24521409194cf7171cc7618a2": {
          "model_module": "@jupyter-widgets/base",
          "model_name": "LayoutModel",
          "model_module_version": "1.2.0",
          "state": {
            "_view_name": "LayoutView",
            "grid_template_rows": null,
            "right": null,
            "justify_content": null,
            "_view_module": "@jupyter-widgets/base",
            "overflow": null,
            "_model_module_version": "1.2.0",
            "_view_count": null,
            "flex_flow": null,
            "width": null,
            "min_width": null,
            "border": null,
            "align_items": null,
            "bottom": null,
            "_model_module": "@jupyter-widgets/base",
            "top": null,
            "grid_column": null,
            "overflow_y": null,
            "overflow_x": null,
            "grid_auto_flow": null,
            "grid_area": null,
            "grid_template_columns": null,
            "flex": null,
            "_model_name": "LayoutModel",
            "justify_items": null,
            "grid_row": null,
            "max_height": null,
            "align_content": null,
            "visibility": null,
            "align_self": null,
            "height": null,
            "min_height": null,
            "padding": null,
            "grid_auto_rows": null,
            "grid_gap": null,
            "max_width": null,
            "order": null,
            "_view_module_version": "1.2.0",
            "grid_template_areas": null,
            "object_position": null,
            "object_fit": null,
            "grid_auto_columns": null,
            "margin": null,
            "display": null,
            "left": null
          }
        },
        "86b408332e22422eac4bb9b86342c10c": {
          "model_module": "@jupyter-widgets/controls",
          "model_name": "DescriptionStyleModel",
          "model_module_version": "1.5.0",
          "state": {
            "_view_name": "StyleView",
            "_model_name": "DescriptionStyleModel",
            "description_width": "",
            "_view_module": "@jupyter-widgets/base",
            "_model_module_version": "1.5.0",
            "_view_count": null,
            "_view_module_version": "1.2.0",
            "_model_module": "@jupyter-widgets/controls"
          }
        },
        "7587738184ef4450a33c7cd6e007c2ff": {
          "model_module": "@jupyter-widgets/base",
          "model_name": "LayoutModel",
          "model_module_version": "1.2.0",
          "state": {
            "_view_name": "LayoutView",
            "grid_template_rows": null,
            "right": null,
            "justify_content": null,
            "_view_module": "@jupyter-widgets/base",
            "overflow": null,
            "_model_module_version": "1.2.0",
            "_view_count": null,
            "flex_flow": null,
            "width": null,
            "min_width": null,
            "border": null,
            "align_items": null,
            "bottom": null,
            "_model_module": "@jupyter-widgets/base",
            "top": null,
            "grid_column": null,
            "overflow_y": null,
            "overflow_x": null,
            "grid_auto_flow": null,
            "grid_area": null,
            "grid_template_columns": null,
            "flex": null,
            "_model_name": "LayoutModel",
            "justify_items": null,
            "grid_row": null,
            "max_height": null,
            "align_content": null,
            "visibility": null,
            "align_self": null,
            "height": null,
            "min_height": null,
            "padding": null,
            "grid_auto_rows": null,
            "grid_gap": null,
            "max_width": null,
            "order": null,
            "_view_module_version": "1.2.0",
            "grid_template_areas": null,
            "object_position": null,
            "object_fit": null,
            "grid_auto_columns": null,
            "margin": null,
            "display": null,
            "left": null
          }
        }
      }
    }
  },
  "cells": [
    {
      "cell_type": "markdown",
      "metadata": {
        "id": "f-BkL_yTqoo-"
      },
      "source": [
        "#   <center>**Federated Averaging**</center>"
      ]
    },
    {
      "cell_type": "markdown",
      "metadata": {
        "id": "v8I47FooSNlO"
      },
      "source": [
        "# 1. Description\n",
        "This notebook implments the Federated Averaging (**FedAvg**) Algorithm. To make the notebook self-contained, we include the pseudo-code and minimal description of the setup below but the reader is encouraged to read the full paper from [here](https://arxiv.org/pdf/1602.05629.pdf).\n",
        "\n",
        "We consider $K$ clients over which the data is partitioned, with $\\mathcal{P}_k$ the set of indexes of data points on client $k$, with $n_k = |\\mathcal{P}_k|$. FedAvg was proposed to solve any finite-sum objective of the form\n",
        "\n",
        "\\begin{equation}\n",
        "\\underset{w \\in \\mathbb{R}^d}{\\min} f(w) = \\sum_{k=1}^k \\frac{n_k}{n} F_k(w) \\text{ where } F_k(w) = \\frac{1}{n_k} \\sum_{i \\in \\mathcal{P}_k} f_i(w)\n",
        "\\end{equation}\n",
        "For a machine learning problem, we typically take $f_i(w) = \\ell(x_i, y_i; w)$, i.e. the loss of the prediction on the example $(x_i, y_i)$ made with model parameters $w$.\n",
        "\n",
        "\n",
        "\n",
        "\n",
        "\n",
        "\n",
        "\n",
        "\n",
        "\n",
        "\n",
        "\n",
        "\n"
      ]
    },
    {
      "cell_type": "markdown",
      "metadata": {
        "id": "o-9hWcGkrtNi"
      },
      "source": [
        "# 2. Notations and Pseudo-code\n",
        "\n",
        "Before writing the FedAvg pseudo-code, we define the following quantities:\n",
        "\n",
        "\n",
        "*   $B$ : the local minibatch size\n",
        "*   $E$ : the number of local epochs or communication inverval\n",
        "*   $\\eta$ : the learning rate\n",
        "*   $C$ : the client fraction\n",
        "*   $T$ : the total number of communication rounds\n",
        "\n",
        "Note that when $B = \\infty$ and $E=1$, the FedAvg is equivalent to FederatedSGD, where $B = \\infty$ indices that the full local dataset is treated as a single minibatch."
      ]
    },
    {
      "cell_type": "markdown",
      "metadata": {
        "id": "meZwLNaNqk4g"
      },
      "source": [
        "---\n",
        "\n",
        "**PseudoCode** of FedAvg Algorithm\n",
        "\n",
        "---\n",
        "**Server executes:**\n",
        "> Initialize $w_0$ <br>\n",
        "> **for** each round $t = 1, 2, \\dots, T$ **do**\n",
        ">> $m \\leftarrow \\max(C \\cdot K, 1)$ <br>\n",
        ">> $S_t \\leftarrow$ (random set of $m$ clients)  <br>\n",
        ">> **for** each client $k \\in S_t$ **in parallel do**\n",
        ">>> $w^{k}_{t+1} \\leftarrow$ ClientUpdate($k$, $w_{t}$) \n",
        "\n",
        ">>  $w_{t+1} = \\sum_{k=1}^{K} \\frac{n_k}{n} w^{k}_{t+1}$\n",
        "\n",
        "**ClientUpdate($k$, $w$):** // Run on client $k$\n",
        "> $\\mathcal{B} \\leftarrow$ (split $\\mathcal{P}_k$ into batches of size $B$) <br>\n",
        "> **for** each local epoch $i = 1, 2, \\dots, E$ **do**\n",
        ">> **for** batch $b \\in \\mathcal{B}$ **do**\n",
        ">>> $w \\leftarrow w − \\eta \\nabla \\ell(w, b)$ \n",
        "\n",
        "> return $w$ to server\n",
        "\n",
        "---"
      ]
    },
    {
      "cell_type": "markdown",
      "metadata": {
        "id": "VdH5lSxytqTV"
      },
      "source": [
        "# 3. Implementation\n"
      ]
    },
    {
      "cell_type": "markdown",
      "metadata": {
        "id": "5LvApecXt7dX"
      },
      "source": [
        "## 3.1 Importing Required Modules"
      ]
    },
    {
      "cell_type": "code",
      "metadata": {
        "id": "2jgWxjg2SPsO"
      },
      "source": [
        "import torch\n",
        "import torch.nn as nn\n",
        "import torch.nn.functional as F\n",
        "import torch.optim as optim\n",
        "from torchvision import datasets, transforms\n",
        "from torch.utils.data import DataLoader, Dataset\n",
        "import copy\n",
        "import numpy as np\n",
        "import matplotlib.pyplot as plt\n",
        "from tqdm import tqdm"
      ],
      "execution_count": 1,
      "outputs": []
    },
    {
      "cell_type": "markdown",
      "metadata": {
        "id": "jfrrNNdAaN9P"
      },
      "source": [
        "## 3.2 Simulation Setting\n",
        "We start by specifying the parameters of our simulation setting. For the sake of consistency, we use the same variable names as described above. Note that here we are specifying different batch sizes (*B*) for the training part and (*B_test*) for the test part."
      ]
    },
    {
      "cell_type": "code",
      "metadata": {
        "id": "N3DvxPZQaZv5"
      },
      "source": [
        "T = 100\n",
        "C = 0.1\n",
        "K = 100\n",
        "E = 1\n",
        "eta = 0.01\n",
        "B = 10\n",
        "B_test = 128"
      ],
      "execution_count": 2,
      "outputs": []
    },
    {
      "cell_type": "markdown",
      "metadata": {
        "id": "M8lsyhTJuB5b"
      },
      "source": [
        "## 3.3 Loading Dataset\n",
        "For illustration purpose, we will consider the same dataset as in the original paper, i.e. MNIST dataset. When loading the dataset, we get the train (*mnist_data_train*) and the test (*mnist_data_test*) partitions while applying the transformer that enables us to convert the data to tensor and normalize it."
      ]
    },
    {
      "cell_type": "code",
      "metadata": {
        "id": "iAYLcVOzKSrU"
      },
      "source": [
        "def load_dataset():\n",
        "    transforms_mnist = transforms.Compose([transforms.ToTensor(), transforms.Normalize((0.1307,),(0.3081,))])\n",
        "    mnist_data_train = datasets.MNIST('./data/mnist', train=True, download=True, transform=transforms_mnist)\n",
        "    mnist_data_test = datasets.MNIST('./data/mnist', train=False, download=True, transform=transforms_mnist)\n",
        "\n",
        "    return mnist_data_train, mnist_data_test"
      ],
      "execution_count": 3,
      "outputs": []
    },
    {
      "cell_type": "code",
      "metadata": {
        "colab": {
          "base_uri": "https://localhost:8080/",
          "height": 477,
          "referenced_widgets": [
            "e371ab9212404aaeaa8d15d37aeaf13f",
            "0c1ba37c46174a418ed7fb56a8707926",
            "4c60e1b4d7e4440784de735262a29e9a",
            "d592f70254a04925873d5b7b5e3f631e",
            "3b420776c8384b98bdb8003fbe8e03ac",
            "21318a84cd274199b34d4523e788d627",
            "2014fdf920f741a993ebb8dbfb94bd13",
            "20904f461e4d4bf5b275b268153aefab",
            "4436652543f94261889af1f05f9f4356",
            "e58c8fa938f44067b7e4314f1b6a0a66",
            "50a5a93f6f71408c82ffd0d347d8af19",
            "f68338c40d6a48049c105c4530c44e94",
            "b8ab2ad2e92244cf9ce7f8855a82c9a1",
            "36082221f4e549f3ac3c4c772e7dfb35",
            "f4feaf9574384e989640c5bbaed5b6cb",
            "37edf95adbdf4063a93a40a7d4b72757",
            "bbf4d4091a4d4a66bfca708f9d387168",
            "9706fc9130ad4e48b732ca9651f858e2",
            "670f8745abad47d7b4d300b99fc45a35",
            "f571895320fa4d18aaffedb5df9aa5f3",
            "e329633021de452ca869be46c23711fc",
            "c535cbe78876430eb2d8b8714cc48468",
            "18948639ef0845a58638845ecef6957d",
            "e1557a2f95874765853ec9c9bd91fa55",
            "f7a2bd11fa9f4934ade9577345cd4f06",
            "90047c3383ae4a709e701901c6473417",
            "31c32f596c9545f082e6097b9eb18e03",
            "a0b155f1099e4921831aef9e2bbc3d1c",
            "44866ece16ef43428351e491b915539e",
            "ddd1686eac924321b9eeb0f244131ec2",
            "d52a795a1c664da5aeb8297fba3ec39d",
            "581a936bdaef46a19677de03955f5e06",
            "0414dc2239724af5b1f048e5d7c1a9ee",
            "c4d8356c7c5a4d16be7566e1cd23e27e",
            "4f93346c1ed84849b4f8776cec04a1b7",
            "c666c7cece924ebdbaa588a87694b53a",
            "79398da6dd574f9dacb535dd55cd43a2",
            "a34d51f61b6241d6b73f3fd3f0161e14",
            "48a67b3cc3ea43519f565c3429905f79",
            "8dd97e368a3e4e87808436349eebeb68",
            "46808326649e4976a719994ffa790e33",
            "26074ea24521409194cf7171cc7618a2",
            "86b408332e22422eac4bb9b86342c10c",
            "7587738184ef4450a33c7cd6e007c2ff"
          ]
        },
        "id": "vMoeQ8fmKfhR",
        "outputId": "c84ce250-8733-4943-c728-886ae45a47f8"
      },
      "source": [
        "mnist_data_train, mnist_data_test = load_dataset()"
      ],
      "execution_count": 4,
      "outputs": [
        {
          "output_type": "stream",
          "name": "stdout",
          "text": [
            "Downloading http://yann.lecun.com/exdb/mnist/train-images-idx3-ubyte.gz\n",
            "Downloading http://yann.lecun.com/exdb/mnist/train-images-idx3-ubyte.gz to ./data/mnist/MNIST/raw/train-images-idx3-ubyte.gz\n"
          ]
        },
        {
          "output_type": "display_data",
          "data": {
            "application/vnd.jupyter.widget-view+json": {
              "model_id": "e371ab9212404aaeaa8d15d37aeaf13f",
              "version_minor": 0,
              "version_major": 2
            },
            "text/plain": [
              "  0%|          | 0/9912422 [00:00<?, ?it/s]"
            ]
          },
          "metadata": {}
        },
        {
          "output_type": "stream",
          "name": "stdout",
          "text": [
            "Extracting ./data/mnist/MNIST/raw/train-images-idx3-ubyte.gz to ./data/mnist/MNIST/raw\n",
            "\n",
            "Downloading http://yann.lecun.com/exdb/mnist/train-labels-idx1-ubyte.gz\n",
            "Downloading http://yann.lecun.com/exdb/mnist/train-labels-idx1-ubyte.gz to ./data/mnist/MNIST/raw/train-labels-idx1-ubyte.gz\n"
          ]
        },
        {
          "output_type": "display_data",
          "data": {
            "application/vnd.jupyter.widget-view+json": {
              "model_id": "f68338c40d6a48049c105c4530c44e94",
              "version_minor": 0,
              "version_major": 2
            },
            "text/plain": [
              "  0%|          | 0/28881 [00:00<?, ?it/s]"
            ]
          },
          "metadata": {}
        },
        {
          "output_type": "stream",
          "name": "stdout",
          "text": [
            "Extracting ./data/mnist/MNIST/raw/train-labels-idx1-ubyte.gz to ./data/mnist/MNIST/raw\n",
            "\n",
            "Downloading http://yann.lecun.com/exdb/mnist/t10k-images-idx3-ubyte.gz\n",
            "Downloading http://yann.lecun.com/exdb/mnist/t10k-images-idx3-ubyte.gz to ./data/mnist/MNIST/raw/t10k-images-idx3-ubyte.gz\n"
          ]
        },
        {
          "output_type": "display_data",
          "data": {
            "application/vnd.jupyter.widget-view+json": {
              "model_id": "18948639ef0845a58638845ecef6957d",
              "version_minor": 0,
              "version_major": 2
            },
            "text/plain": [
              "  0%|          | 0/1648877 [00:00<?, ?it/s]"
            ]
          },
          "metadata": {}
        },
        {
          "output_type": "stream",
          "name": "stdout",
          "text": [
            "Extracting ./data/mnist/MNIST/raw/t10k-images-idx3-ubyte.gz to ./data/mnist/MNIST/raw\n",
            "\n",
            "Downloading http://yann.lecun.com/exdb/mnist/t10k-labels-idx1-ubyte.gz\n",
            "Downloading http://yann.lecun.com/exdb/mnist/t10k-labels-idx1-ubyte.gz to ./data/mnist/MNIST/raw/t10k-labels-idx1-ubyte.gz\n"
          ]
        },
        {
          "output_type": "display_data",
          "data": {
            "application/vnd.jupyter.widget-view+json": {
              "model_id": "c4d8356c7c5a4d16be7566e1cd23e27e",
              "version_minor": 0,
              "version_major": 2
            },
            "text/plain": [
              "  0%|          | 0/4542 [00:00<?, ?it/s]"
            ]
          },
          "metadata": {}
        },
        {
          "output_type": "stream",
          "name": "stdout",
          "text": [
            "Extracting ./data/mnist/MNIST/raw/t10k-labels-idx1-ubyte.gz to ./data/mnist/MNIST/raw\n",
            "\n"
          ]
        },
        {
          "output_type": "stream",
          "name": "stderr",
          "text": [
            "/usr/local/lib/python3.7/dist-packages/torchvision/datasets/mnist.py:498: UserWarning: The given NumPy array is not writeable, and PyTorch does not support non-writeable tensors. This means you can write to the underlying (supposedly non-writeable) NumPy array using the tensor. You may want to copy the array to protect its data or make it writeable before converting it to a tensor. This type of warning will be suppressed for the rest of this program. (Triggered internally at  /pytorch/torch/csrc/utils/tensor_numpy.cpp:180.)\n",
            "  return torch.from_numpy(parsed.astype(m[2], copy=False)).view(*s)\n"
          ]
        }
      ]
    },
    {
      "cell_type": "markdown",
      "metadata": {
        "id": "qEEvNDOAbIPP"
      },
      "source": [
        "## 3.4 Data Partioning\n",
        "For the data partitioning, we define two functions to replicate data partitioning in real world scenario:\n",
        "- **iid_partition** : generates an identical and independent distributed (IID) partitioning of the dataset, i.e. the data is shuffled, then uniformly distributed across clients.\n",
        "- **non_iid_partition** : pathological implementation of a non-IID setting where each client gets data from only a subset of classes. We first sort the data by digit label, then divided into (*total_shards*) shards of size (*shards_size*) and assign each client (*num_shards_per_client*) shards.\n"
      ]
    },
    {
      "cell_type": "code",
      "metadata": {
        "id": "EVbtMPn2LfZ6"
      },
      "source": [
        "def iid_partition(dataset, K):\n",
        "    num_items_per_client = int(len(dataset)/K)\n",
        "    client_dict = {}\n",
        "    image_idxs = [i for i in range(len(dataset))]\n",
        "\n",
        "    for i in range(K):\n",
        "        client_dict[i] = set(np.random.choice(image_idxs, num_items_per_client, replace=False))\n",
        "        image_idxs = list(set(image_idxs) - client_dict[i])\n",
        "\n",
        "    return client_dict"
      ],
      "execution_count": 5,
      "outputs": []
    },
    {
      "cell_type": "code",
      "metadata": {
        "id": "uql7PFtELizl"
      },
      "source": [
        "def non_iid_partition(dataset, K, total_shards, shards_size, num_shards_per_client):\n",
        "    shard_idxs = [i for i in range(total_shards)]\n",
        "    client_dict = {i: np.array([], dtype='int64') for i in range(K)}\n",
        "    idxs = np.arange(len(dataset))\n",
        "    data_labels = dataset.targets.numpy()\n",
        "\n",
        "    # sort the labels\n",
        "    label_idxs = np.vstack((idxs, data_labels))\n",
        "    label_idxs = label_idxs[:, label_idxs[1,:].argsort()]\n",
        "    idxs = label_idxs[0,:]\n",
        "\n",
        "    # divide the data into total_shards of size shards_size\n",
        "    # assign num_shards_per_client to each client\n",
        "    for i in range(K):\n",
        "        rand_set = set(np.random.choice(shard_idxs, num_shards_per_client, replace=False))\n",
        "        shard_idxs = list(set(shard_idxs) - rand_set)\n",
        "\n",
        "        for rand in rand_set:\n",
        "            client_dict[i] = np.concatenate((client_dict[i], idxs[rand*shards_size:(rand+1)*shards_size]), axis=0)\n",
        "  \n",
        "    return client_dict"
      ],
      "execution_count": 6,
      "outputs": []
    },
    {
      "cell_type": "markdown",
      "metadata": {
        "id": "IlTQQVJQb-c5"
      },
      "source": [
        "## 3.5 Model Definition\n",
        "In this subsection, we define the neural net (NN) models. To this end, we provide two classes **MLP_Net** and **CNN_Net** that replicates the Multi-Layer Perceptron (MLP) and Convolutional Neural Network (CNN) models, respectively, from the original paper."
      ]
    },
    {
      "cell_type": "code",
      "metadata": {
        "id": "6ZvU0dwiLnue"
      },
      "source": [
        "class MLP_Net(nn.Module):\n",
        "    def __init__(self):\n",
        "        super(MLP_Net, self).__init__()\n",
        "        self.fc1 = nn.Linear(28*28, 200)\n",
        "        self.fc2 = nn.Linear(200, 200)\n",
        "        self.fc3 = nn.Linear(200, 10)\n",
        "\n",
        "    def forward(self, x):\n",
        "        x = torch.flatten(x, 1)\n",
        "        x = F.relu(self.fc1(x))\n",
        "        x = F.relu(self.fc2(x))\n",
        "        out = self.fc3(x)\n",
        "        return out"
      ],
      "execution_count": 7,
      "outputs": []
    },
    {
      "cell_type": "code",
      "metadata": {
        "id": "ULnWhuLdLpbb"
      },
      "source": [
        "class CNN_Net(nn.Module):\n",
        "    def __init__(self):\n",
        "        super(CNN_Net, self).__init__()\n",
        "        self.conv1 = nn.Conv2d(1, 32, kernel_size=5)\n",
        "        self.conv2 = nn.Conv2d(32, 64, kernel_size=5)\n",
        "        self.pool = nn.MaxPool2d(2,2)\n",
        "        self.dropout = nn.Dropout(p=0.2)\n",
        "        self.fc1 = nn.Linear(1024, 512)\n",
        "        self.out = nn.Linear(512, 10)\n",
        "\n",
        "    def forward(self, x):\n",
        "        x = self.pool(F.relu(self.conv1(x)))\n",
        "        x = self.pool(F.relu(self.conv2(x)))\n",
        "        x = self.dropout(x)\n",
        "        x = torch.flatten(x, 1)\n",
        "        x = F.relu(self.fc1(x))\n",
        "        x = self.out(x)\n",
        "        out = F.log_softmax(x, dim=1)\n",
        "        return out"
      ],
      "execution_count": 8,
      "outputs": []
    },
    {
      "cell_type": "markdown",
      "metadata": {
        "id": "W3lNJD7fdFhD"
      },
      "source": [
        "## 3.6 Local Dataset\n",
        "We implement the function **CustomDataset** that generates the corresponding data samples according to the dictionary of indices obtained from the data partioning from either the **iid_partition** or the **non_iid_partition** functions."
      ]
    },
    {
      "cell_type": "code",
      "metadata": {
        "id": "_M6uXrzpLrc9"
      },
      "source": [
        "class CustomDataset(Dataset):\n",
        "    def __init__(self, dataset, idxs):\n",
        "        self.dataset = dataset\n",
        "        self.idxs = list(idxs)\n",
        "\n",
        "    def __len__(self):\n",
        "        return len(self.idxs)\n",
        "\n",
        "    def __getitem__(self, item):\n",
        "        image, label = self.dataset[self.idxs[item]]\n",
        "        return image, label"
      ],
      "execution_count": 9,
      "outputs": []
    },
    {
      "cell_type": "markdown",
      "metadata": {
        "id": "HZ_ERsaWfTuM"
      },
      "source": [
        "## 3.7 Client Update\n",
        "In this subsection, we implement the local training of the model on the client side. Note that we use SGD optimizer following the paper, other types of optimizers (Adam, RMSprop,...) can be used."
      ]
    },
    {
      "cell_type": "code",
      "metadata": {
        "id": "UIyh1DzxL00O"
      },
      "source": [
        "class ClientUpdate(object):\n",
        "    def __init__(self, dataset, batchSize, learning_rate, epochs, idxs):\n",
        "        self.train_loader = DataLoader(CustomDataset(dataset, idxs), batch_size=batchSize, shuffle=True)\n",
        "        self.learning_rate = learning_rate\n",
        "        self.epochs = epochs\n",
        "\n",
        "    def train(self, model):\n",
        "        criterion = nn.CrossEntropyLoss()\n",
        "        optimizer = torch.optim.SGD(model.parameters(), lr=self.learning_rate, momentum=0.5)\n",
        "\n",
        "        e_loss = []\n",
        "        for epoch in range(1, self.epochs+1):\n",
        "            train_loss = 0\n",
        "            model.train()\n",
        "            for data, labels in self.train_loader:\n",
        "                optimizer.zero_grad() \n",
        "                output = model(data)  \n",
        "                loss = criterion(output, labels) \n",
        "                loss.backward() \n",
        "                optimizer.step() \n",
        "                train_loss += loss.item()*data.size(0) \n",
        "\n",
        "            train_loss = train_loss/len(self.train_loader.dataset) \n",
        "            e_loss.append(train_loss)\n",
        "\n",
        "        total_loss = sum(e_loss)/len(e_loss)\n",
        "\n",
        "        return model.state_dict(), total_loss"
      ],
      "execution_count": 10,
      "outputs": []
    },
    {
      "cell_type": "markdown",
      "metadata": {
        "id": "e52Wx33GgwMR"
      },
      "source": [
        "## 3.8 Test Loss and Accuracy\n",
        "\n",
        "The function **testing** is used to evaluate the performance of the global model on the test dataset in terms of the loss as well as the accuracy."
      ]
    },
    {
      "cell_type": "code",
      "metadata": {
        "id": "xKhrQ765L2RT"
      },
      "source": [
        "def testing(model, dataset, bs, criterion): \n",
        "    test_loss = 0\n",
        "    correct = 0\n",
        "    test_loader = DataLoader(dataset, batch_size=bs)\n",
        "    l = len(test_loader)\n",
        "    model.eval()\n",
        "    for data, labels in test_loader:\n",
        "        output = model(data)\n",
        "        loss = criterion(output, labels)\n",
        "        test_loss += loss.item()*data.size(0)\n",
        "        _, pred = torch.max(output, 1)\n",
        "        correct += pred.eq(labels.data.view_as(pred)).sum().item()\n",
        "    \n",
        "    test_loss /= len(test_loader.dataset)\n",
        "    test_accuracy = 100. * correct / len(test_loader.dataset)\n",
        "    \n",
        "    return test_loss, test_accuracy"
      ],
      "execution_count": 11,
      "outputs": []
    },
    {
      "cell_type": "markdown",
      "metadata": {
        "id": "WHvGR99Pg3hM"
      },
      "source": [
        "## 3.9 Algorithm Implementation: \n",
        "In the below cell, we provide the implementation of FedAvg using the above helping functions where the loss function is the cross entropy. In this notebook, we chose an IID partition of the data and a CNN model. Students are encouraged to play with the hyperparameters, try different data partitioning as well different models (MLP/CNN)."
      ]
    },
    {
      "cell_type": "code",
      "metadata": {
        "colab": {
          "base_uri": "https://localhost:8080/",
          "height": 0
        },
        "id": "g24yv2fEMgr8",
        "outputId": "3c03788d-9453-4f90-e380-25ea8bbc240a"
      },
      "source": [
        "iid_dict = iid_partition(mnist_data_train, K)\n",
        "model = CNN_Net()\n",
        "criterion = nn.CrossEntropyLoss()\n",
        "ds = mnist_data_train\n",
        "data_dict = iid_dict\n",
        "global_weights = model.state_dict() \n",
        "train_loss = []\n",
        "test_loss = []\n",
        "test_accuracy = []\n",
        "\n",
        "for curr_round in tqdm(range(1, T+1)):\n",
        "    #print('Round ',curr_round)\n",
        "    w, local_loss = [], []\n",
        "    m = max(int(C*K), 1)\n",
        "    \n",
        "    S_t = np.random.choice(range(K), m, replace=False)\n",
        "    for k in S_t:\n",
        "        local_update = ClientUpdate(dataset=ds, batchSize=B, learning_rate=eta, epochs=E, idxs=data_dict[k])\n",
        "        weights, loss = local_update.train(model=copy.deepcopy(model))\n",
        "        w.append(copy.deepcopy(weights))\n",
        "        local_loss.append(copy.deepcopy(loss))\n",
        "\n",
        "\n",
        "    weights_avg = copy.deepcopy(w[0])\n",
        "    for k in weights_avg.keys():\n",
        "        for i in range(1, len(w)):\n",
        "            weights_avg[k] += w[i][k]\n",
        "\n",
        "        weights_avg[k] = torch.div(weights_avg[k], len(w))\n",
        "\n",
        "    global_weights = weights_avg\n",
        "\n",
        "\n",
        "    model.load_state_dict(global_weights)\n",
        "        \n",
        "    loss_avg = sum(local_loss) / len(local_loss)\n",
        "    train_loss.append(loss_avg)\n",
        "\n",
        "    g_loss, g_accuracy = testing(model, mnist_data_test, B_test, criterion)\n",
        "\n",
        "    test_loss.append(g_loss)\n",
        "    test_accuracy.append(g_accuracy)"
      ],
      "execution_count": 13,
      "outputs": [
        {
          "output_type": "stream",
          "name": "stderr",
          "text": [
            "100%|██████████| 100/100 [26:48<00:00, 16.08s/it]\n"
          ]
        }
      ]
    },
    {
      "cell_type": "markdown",
      "metadata": {
        "id": "rwP0SisnhD46"
      },
      "source": [
        "## 3.10 Plotting Results\n",
        "In this subsection, we plot some results for the training/test loss as well as the test accuracy."
      ]
    },
    {
      "cell_type": "code",
      "metadata": {
        "colab": {
          "base_uri": "https://localhost:8080/",
          "height": 279
        },
        "id": "yj-qpsddMjcA",
        "outputId": "f59e6048-0644-4757-a336-f6dfbf560f9a"
      },
      "source": [
        "fig, ax = plt.subplots()\n",
        "x_axis = np.arange(1, T+1)\n",
        "y_axis = np.array(train_loss)\n",
        "ax.plot(x_axis, y_axis, label = \"train loss\")\n",
        "\n",
        "y_axis = np.array(test_loss)\n",
        "ax.plot(x_axis, y_axis, label = \"test loss\")\n",
        "\n",
        "ax.set(xlabel='Number of Rounds', ylabel='Train Loss')\n",
        "ax.legend()\n",
        "ax.grid()"
      ],
      "execution_count": 18,
      "outputs": [
        {
          "output_type": "display_data",
          "data": {
            "image/png": "[encoded data removed]",
            "text/plain": [
              "<Figure size 432x288 with 1 Axes>"
            ]
          },
          "metadata": {
            "needs_background": "light"
          }
        }
      ]
    },
    {
      "cell_type": "code",
      "metadata": {
        "colab": {
          "base_uri": "https://localhost:8080/",
          "height": 281
        },
        "id": "GNW9KjPJnami",
        "outputId": "46cd004e-ab59-46b1-9161-4e9668445eda"
      },
      "source": [
        "fig, ax = plt.subplots()\n",
        "x_axis = np.arange(1, T+1)\n",
        "y_axis = np.array(test_accuracy)\n",
        "ax.plot(x_axis, y_axis)\n",
        "\n",
        "ax.set(xlabel='Number of Rounds', ylabel='Test Accuracy')\n",
        "ax.grid()"
      ],
      "execution_count": 19,
      "outputs": [
        {
          "output_type": "display_data",
          "data": {
            "image/png": "[encoded data removed]",
            "text/plain": [
              "<Figure size 432x288 with 1 Axes>"
            ]
          },
          "metadata": {
            "needs_background": "light"
          }
        }
      ]
    }
  ]
}